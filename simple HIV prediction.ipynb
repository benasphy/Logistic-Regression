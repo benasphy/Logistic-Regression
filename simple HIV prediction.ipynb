{
  "nbformat": 4,
  "nbformat_minor": 0,
  "metadata": {
    "colab": {
      "provenance": [],
      "authorship_tag": "ABX9TyO7CZm9ujlYhIan3BzhgOFA",
      "include_colab_link": true
    },
    "kernelspec": {
      "name": "python3",
      "display_name": "Python 3"
    },
    "language_info": {
      "name": "python"
    }
  },
  "cells": [
    {
      "cell_type": "markdown",
      "metadata": {
        "id": "view-in-github",
        "colab_type": "text"
      },
      "source": [
        "<a href=\"https://colab.research.google.com/github/benasphy/Logistic-Regression/blob/main/simple%20HIV%20prediction.ipynb\" target=\"_parent\"><img src=\"https://colab.research.google.com/assets/colab-badge.svg\" alt=\"Open In Colab\"/></a>"
      ]
    },
    {
      "cell_type": "code",
      "execution_count": 14,
      "metadata": {
        "colab": {
          "base_uri": "https://localhost:8080/"
        },
        "id": "OAx-QoK1QKdA",
        "outputId": "5a0a4791-fff6-4f7a-c0b0-0bb537800eae"
      },
      "outputs": [
        {
          "output_type": "stream",
          "name": "stdout",
          "text": [
            "Accuracy:  {0.5}\n",
            "confusion matrix:  {<function confusion_matrix at 0x7f8d65f491b0>}\n",
            "class_report:  {'              precision    recall  f1-score   support\\n\\n           0       0.00      0.00      0.00         0\\n           1       1.00      0.50      0.67         2\\n\\n    accuracy                           0.50         2\\n   macro avg       0.50      0.25      0.33         2\\nweighted avg       1.00      0.50      0.67         2\\n'}\n",
            "predicted HIV status: Negative\n"
          ]
        },
        {
          "output_type": "stream",
          "name": "stderr",
          "text": [
            "/usr/local/lib/python3.10/dist-packages/sklearn/metrics/_classification.py:1531: UndefinedMetricWarning: Recall is ill-defined and being set to 0.0 in labels with no true samples. Use `zero_division` parameter to control this behavior.\n",
            "  _warn_prf(average, modifier, f\"{metric.capitalize()} is\", len(result))\n",
            "/usr/local/lib/python3.10/dist-packages/sklearn/metrics/_classification.py:1531: UndefinedMetricWarning: Recall is ill-defined and being set to 0.0 in labels with no true samples. Use `zero_division` parameter to control this behavior.\n",
            "  _warn_prf(average, modifier, f\"{metric.capitalize()} is\", len(result))\n",
            "/usr/local/lib/python3.10/dist-packages/sklearn/metrics/_classification.py:1531: UndefinedMetricWarning: Recall is ill-defined and being set to 0.0 in labels with no true samples. Use `zero_division` parameter to control this behavior.\n",
            "  _warn_prf(average, modifier, f\"{metric.capitalize()} is\", len(result))\n",
            "/usr/local/lib/python3.10/dist-packages/sklearn/base.py:493: UserWarning: X does not have valid feature names, but LogisticRegression was fitted with feature names\n",
            "  warnings.warn(\n"
          ]
        }
      ],
      "source": [
        "import numpy as np\n",
        "import pandas as pd\n",
        "from sklearn.model_selection import train_test_split\n",
        "from sklearn.linear_model import LogisticRegression\n",
        "from sklearn.metrics import accuracy_score, confusion_matrix, classification_report\n",
        "\n",
        "#Load Data\n",
        "\n",
        "data = {\n",
        "    'Age': [25, 35, 45, 28, 50, 30, 40, 23, 60, 33],\n",
        "    'CD4_Count': [500, 350, 200, 450, 180, 320, 250, 600, 150, 400],\n",
        "    'Viral_load': [10, 20, 50, 15, 60, 25, 40, 12, 70, 30],\n",
        "    'HIV_status': [0, 1, 1, 0, 1, 0, 1, 0, 1, 0]\n",
        "}\n",
        "\n",
        "#Convert to DataFrame\n",
        "\n",
        "df = pd.DataFrame(data)\n",
        "\n",
        "#Split into Features and Target\n",
        "\n",
        "X = df[['Age', 'CD4_Count', 'Viral_load']]\n",
        "y = df['HIV_status']\n",
        "\n",
        "#Split into Train and Test\n",
        "\n",
        "X_train, X_test, y_train, y_test = train_test_split(X, y, test_size = 0.2, random_state = 42)\n",
        "\n",
        "#Train the model\n",
        "\n",
        "model = LogisticRegression()\n",
        "model.fit(X_train, y_train)\n",
        "\n",
        "#predicting\n",
        "\n",
        "y_pred = model.predict(X_test)\n",
        "\n",
        "#Evaluation\n",
        "\n",
        "accuracy = accuracy_score(y_test, y_pred)\n",
        "print(f\"Accuracy: \", {accuracy})\n",
        "conf_matrix = confusion_matrix(y_test, y_pred)\n",
        "print(f\"confusion matrix: \", {confusion_matrix})\n",
        "class_report = classification_report(y_test, y_pred)\n",
        "print(f\"class_report: \", {class_report})\n",
        "\n",
        "#New data prediction\n",
        "\n",
        "new_data = np.array([20, 480, 12])\n",
        "new_prediction = model.predict(new_data.reshape(1, -1))\n",
        "for i, (input_data, prediction) in enumerate(zip(new_data, new_prediction)):\n",
        "  status = \"Positive\" if prediction == 1 else \"Negative\"\n",
        "  print(f\"predicted HIV status: {status}\")\n"
      ]
    }
  ]
}