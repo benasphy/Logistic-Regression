{
  "nbformat": 4,
  "nbformat_minor": 0,
  "metadata": {
    "colab": {
      "provenance": [],
      "authorship_tag": "ABX9TyMbw61rbbHH9gQWedo7oaz2",
      "include_colab_link": true
    },
    "kernelspec": {
      "name": "python3",
      "display_name": "Python 3"
    },
    "language_info": {
      "name": "python"
    }
  },
  "cells": [
    {
      "cell_type": "markdown",
      "metadata": {
        "id": "view-in-github",
        "colab_type": "text"
      },
      "source": [
        "<a href=\"https://colab.research.google.com/github/benasphy/Logistic-Regression/blob/main/With_Pipeline_vs_without.ipynb\" target=\"_parent\"><img src=\"https://colab.research.google.com/assets/colab-badge.svg\" alt=\"Open In Colab\"/></a>"
      ]
    },
    {
      "cell_type": "code",
      "execution_count": 1,
      "metadata": {
        "colab": {
          "base_uri": "https://localhost:8080/"
        },
        "id": "HS1z0q2v1VJr",
        "outputId": "5e3aea0a-48e0-4ed1-aab6-650e0fb9ae7b"
      },
      "outputs": [
        {
          "output_type": "stream",
          "name": "stdout",
          "text": [
            "✅ With pipeline (accuracy): 0.7752191470501331\n",
            "❌ Without pipeline (accuracy): 0.7752191470501331\n"
          ]
        }
      ],
      "source": [
        "import pandas as pd\n",
        "import seaborn as sns\n",
        "from sklearn.model_selection import cross_val_score\n",
        "from sklearn.pipeline import Pipeline\n",
        "from sklearn.preprocessing import StandardScaler\n",
        "from sklearn.linear_model import LogisticRegression\n",
        "\n",
        "# 1. 🚢 Load and prepare the Titanic dataset\n",
        "data = sns.load_dataset('titanic')\n",
        "\n",
        "# Keep selected columns and drop rows with missing values\n",
        "df = data[['age', 'fare', 'sex', 'embarked', 'survived']].dropna()\n",
        "\n",
        "# Encode categorical features\n",
        "df['sex'] = df['sex'].map({'male': 0, 'female': 1})\n",
        "df['embarked'] = df['embarked'].map({'S': 0, 'C': 1, 'Q': 2})\n",
        "\n",
        "# Features and target\n",
        "X = df.drop('survived', axis=1)\n",
        "y = df['survived']\n",
        "\n",
        "# 2. ✅ Version with Pipeline\n",
        "pipeline = Pipeline([\n",
        "    ('scaler', StandardScaler()),\n",
        "    ('model', LogisticRegression())\n",
        "])\n",
        "\n",
        "scores_pipeline = cross_val_score(pipeline, X, y, cv=5)\n",
        "print(\"✅ With pipeline (accuracy):\", scores_pipeline.mean())\n",
        "\n",
        "# 3. ❌ Version without Pipeline (manual steps)\n",
        "# Manual scaling\n",
        "scaler = StandardScaler()\n",
        "X_scaled = scaler.fit_transform(X)\n",
        "\n",
        "# Model\n",
        "model = LogisticRegression()\n",
        "scores_manual = cross_val_score(model, X_scaled, y, cv=5)\n",
        "print(\"❌ Without pipeline (accuracy):\", scores_manual.mean())\n"
      ]
    },
    {
      "cell_type": "markdown",
      "source": [
        "✅ Both perform the same, but the pipeline is safer, cleaner, and preferred in real projects."
      ],
      "metadata": {
        "id": "YfXF6Ezt1d5S"
      }
    }
  ]
}